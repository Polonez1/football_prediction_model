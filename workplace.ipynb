{
 "cells": [
  {
   "cell_type": "code",
   "execution_count": 7,
   "metadata": {},
   "outputs": [],
   "source": [
    "import pandas as pd\n",
    "\n",
    "\n",
    "df = pd.read_excel('./data/downloaded_data/matches.xlsx')\n",
    "df['Date'] = pd.to_datetime(df['Date'], format=\"%Y/%m/%d\")\n",
    "\n",
    "dff = df[['Date', 'home_team', 'home_elo', 'home_elo_change', 'Result']]\n",
    "dff = dff.sort_values(by=['home_team', 'Date'])\n",
    "\n",
    "dff['sum_elo'] = dff.groupby('home_team')['home_elo_change'].rolling(5, min_periods=1).sum().reset_index(level=0, drop=True)\n",
    "\n",
    "dff['form'] = dff.groupby('home_team')['sum_elo'].shift(1)\n",
    "\n",
    "dff.sort_values(by='Date', ascending=False, inplace=True)\n",
    "\n",
    "tt = dff.loc[dff['home_team']=='Aston Villa']"
   ]
  },
  {
   "cell_type": "code",
   "execution_count": 2,
   "metadata": {},
   "outputs": [
    {
     "ename": "NameError",
     "evalue": "name 'pd' is not defined",
     "output_type": "error",
     "traceback": [
      "\u001b[1;31m---------------------------------------------------------------------------\u001b[0m",
      "\u001b[1;31mNameError\u001b[0m                                 Traceback (most recent call last)",
      "\u001b[1;32mc:\\Users\\darju\\Documents\\football_prediction_model\\workplace.ipynb Cell 2\u001b[0m line \u001b[0;36m<cell line: 4>\u001b[1;34m()\u001b[0m\n\u001b[0;32m      <a href='vscode-notebook-cell:/c%3A/Users/darju/Documents/football_prediction_model/workplace.ipynb#W1sZmlsZQ%3D%3D?line=0'>1</a>\u001b[0m hrefs_dict \u001b[39m=\u001b[39m {\u001b[39m\"\u001b[39m\u001b[39mcountry\u001b[39m\u001b[39m\"\u001b[39m: [], \u001b[39m\"\u001b[39m\u001b[39mcompetition\u001b[39m\u001b[39m\"\u001b[39m: [], \u001b[39m\"\u001b[39m\u001b[39mdivision_num\u001b[39m\u001b[39m\"\u001b[39m: [], \u001b[39m\"\u001b[39m\u001b[39mhrefs\u001b[39m\u001b[39m\"\u001b[39m: []}\n\u001b[1;32m----> <a href='vscode-notebook-cell:/c%3A/Users/darju/Documents/football_prediction_model/workplace.ipynb#W1sZmlsZQ%3D%3D?line=3'>4</a>\u001b[0m pd\u001b[39m.\u001b[39mDataFrame(hrefs_dict)\n",
      "\u001b[1;31mNameError\u001b[0m: name 'pd' is not defined"
     ]
    }
   ],
   "source": [
    "hrefs_dict = {\"country\": [], \"competition\": [], \"division_num\": [], \"hrefs\": []}\n",
    "\n",
    "\n",
    "pd.DataFrame(hrefs_dict)"
   ]
  },
  {
   "cell_type": "code",
   "execution_count": 47,
   "metadata": {},
   "outputs": [],
   "source": [
    "import pandas as pd\n",
    "import numpy as np\n",
    "from datetime import datetime\n",
    "\n",
    "from sklearn.base import BaseEstimator, TransformerMixin\n",
    "from sklearn.compose import ColumnTransformer\n",
    "from sklearn.pipeline import make_pipeline\n",
    "from sklearn.preprocessing import OrdinalEncoder\n",
    "from sklearn.preprocessing import OneHotEncoder\n",
    "from sklearn.preprocessing import LabelEncoder\n",
    "\n",
    "\n",
    "\n",
    "\n",
    "class ResultTransformer(BaseEstimator, TransformerMixin):\n",
    "    def fit(self, X, y=None):\n",
    "        return self\n",
    "\n",
    "    def transform(self, X: pd.DataFrame, y=None):\n",
    "        XX = X.pipe(self._add_result).pipe(self._transform_date)\n",
    "\n",
    "        return XX\n",
    "\n",
    "    def _add_result(self, df: pd.DataFrame):\n",
    "        df[\"home_result\"] = df[\"result\"].str.partition(\" :\")[0].astype(\"int\")\n",
    "        df[\"away_result\"] = df[\"result\"].str.partition(\": \")[2].astype(\"int\")\n",
    "\n",
    "        df = df.assign(\n",
    "            result_final=lambda x: np.where(\n",
    "                x[\"home_result\"] > x[\"away_result\"],\n",
    "                1,\n",
    "                np.where(x[\"home_result\"] < x[\"away_result\"], 2, 0),\n",
    "            )\n",
    "        )\n",
    "\n",
    "        return df\n",
    "\n",
    "    def _transform_date(self, df: pd.DataFrame):\n",
    "        df[\"date\"] = pd.to_datetime(df[\"date\"], format=\"%a, %d-%b-%y\").dt.strftime(\n",
    "            \"%Y-%m-%d\"\n",
    "        )\n",
    "\n",
    "        return df\n",
    "\n",
    "\n",
    "class CustomEncoder(BaseEstimator, TransformerMixin):\n",
    "    def __init__(self):\n",
    "        self.encoder = LabelEncoder()\n",
    "\n",
    "    def fit(self, X, y=None):\n",
    "        \n",
    "        combined_data = X['home_team'].append(X['away_team'])\n",
    "        self.encoder.fit(combined_data)\n",
    "        return self\n",
    "\n",
    "    def transform(self, X):\n",
    "        X_copy = X.copy()\n",
    "        \n",
    "        X_copy['home_team'] = self.encoder.transform(X['home_team'])\n",
    "        X_copy['away_team'] = self.encoder.transform(X['away_team'])\n",
    "        return X_copy\n",
    "\n",
    "def transform_data(df: pd.DataFrame) -> pd.DataFrame:\n",
    "    \n",
    "    \n",
    "    pipeline = make_pipeline(CustomEncoder())\n",
    "    transformed_data = pipeline.fit_transform(df)\n",
    "\n",
    "    return transformed_data\n"
   ]
  },
  {
   "cell_type": "code",
   "execution_count": 48,
   "metadata": {},
   "outputs": [
    {
     "name": "stderr",
     "output_type": "stream",
     "text": [
      "C:\\Users\\darju\\AppData\\Local\\Temp\\ipykernel_10324\\1719310186.py:52: FutureWarning: The series.append method is deprecated and will be removed from pandas in a future version. Use pandas.concat instead.\n",
      "  combined_data = X['home_team'].append(X['away_team'])\n"
     ]
    },
    {
     "data": {
      "text/html": [
       "<div>\n",
       "<style scoped>\n",
       "    .dataframe tbody tr th:only-of-type {\n",
       "        vertical-align: middle;\n",
       "    }\n",
       "\n",
       "    .dataframe tbody tr th {\n",
       "        vertical-align: top;\n",
       "    }\n",
       "\n",
       "    .dataframe thead th {\n",
       "        text-align: right;\n",
       "    }\n",
       "</style>\n",
       "<table border=\"1\" class=\"dataframe\">\n",
       "  <thead>\n",
       "    <tr style=\"text-align: right;\">\n",
       "      <th></th>\n",
       "      <th>home_team</th>\n",
       "      <th>away_team</th>\n",
       "    </tr>\n",
       "  </thead>\n",
       "  <tbody>\n",
       "    <tr>\n",
       "      <th>0</th>\n",
       "      <td>0</td>\n",
       "      <td>4</td>\n",
       "    </tr>\n",
       "    <tr>\n",
       "      <th>1</th>\n",
       "      <td>2</td>\n",
       "      <td>1</td>\n",
       "    </tr>\n",
       "    <tr>\n",
       "      <th>2</th>\n",
       "      <td>3</td>\n",
       "      <td>5</td>\n",
       "    </tr>\n",
       "  </tbody>\n",
       "</table>\n",
       "</div>"
      ],
      "text/plain": [
       "   home_team  away_team\n",
       "0          0          4\n",
       "1          2          1\n",
       "2          3          5"
      ]
     },
     "execution_count": 48,
     "metadata": {},
     "output_type": "execute_result"
    }
   ],
   "source": [
    "df = pd.DataFrame({\n",
    "    'home_team':['Arsenal', 'Chelsea', 'Darjus'], \n",
    "    'away_team':['Man City', 'Burnley', 'Man. United']\n",
    "})\n",
    "\n",
    "transform_data(df)"
   ]
  }
 ],
 "metadata": {
  "kernelspec": {
   "display_name": "Python 3",
   "language": "python",
   "name": "python3"
  },
  "language_info": {
   "codemirror_mode": {
    "name": "ipython",
    "version": 3
   },
   "file_extension": ".py",
   "mimetype": "text/x-python",
   "name": "python",
   "nbconvert_exporter": "python",
   "pygments_lexer": "ipython3",
   "version": "3.10.5"
  },
  "orig_nbformat": 4
 },
 "nbformat": 4,
 "nbformat_minor": 2
}

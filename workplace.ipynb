{
 "cells": [
  {
   "cell_type": "code",
   "execution_count": 7,
   "metadata": {},
   "outputs": [],
   "source": [
    "import pandas as pd\n",
    "\n",
    "\n",
    "df = pd.read_excel('./data/downloaded_data/matches.xlsx')\n",
    "df['Date'] = pd.to_datetime(df['Date'], format=\"%Y/%m/%d\")\n",
    "\n",
    "dff = df[['Date', 'home_team', 'home_elo', 'home_elo_change', 'Result']]\n",
    "dff = dff.sort_values(by=['home_team', 'Date'])\n",
    "\n",
    "dff['sum_elo'] = dff.groupby('home_team')['home_elo_change'].rolling(5, min_periods=1).sum().reset_index(level=0, drop=True)\n",
    "\n",
    "dff['form'] = dff.groupby('home_team')['sum_elo'].shift(1)\n",
    "\n",
    "dff.sort_values(by='Date', ascending=False, inplace=True)\n",
    "\n",
    "tt = dff.loc[dff['home_team']=='Aston Villa']"
   ]
  },
  {
   "cell_type": "code",
   "execution_count": 2,
   "metadata": {},
   "outputs": [
    {
     "ename": "NameError",
     "evalue": "name 'pd' is not defined",
     "output_type": "error",
     "traceback": [
      "\u001b[1;31m---------------------------------------------------------------------------\u001b[0m",
      "\u001b[1;31mNameError\u001b[0m                                 Traceback (most recent call last)",
      "\u001b[1;32mc:\\Users\\darju\\Documents\\football_prediction_model\\workplace.ipynb Cell 2\u001b[0m line \u001b[0;36m<cell line: 4>\u001b[1;34m()\u001b[0m\n\u001b[0;32m      <a href='vscode-notebook-cell:/c%3A/Users/darju/Documents/football_prediction_model/workplace.ipynb#W1sZmlsZQ%3D%3D?line=0'>1</a>\u001b[0m hrefs_dict \u001b[39m=\u001b[39m {\u001b[39m\"\u001b[39m\u001b[39mcountry\u001b[39m\u001b[39m\"\u001b[39m: [], \u001b[39m\"\u001b[39m\u001b[39mcompetition\u001b[39m\u001b[39m\"\u001b[39m: [], \u001b[39m\"\u001b[39m\u001b[39mdivision_num\u001b[39m\u001b[39m\"\u001b[39m: [], \u001b[39m\"\u001b[39m\u001b[39mhrefs\u001b[39m\u001b[39m\"\u001b[39m: []}\n\u001b[1;32m----> <a href='vscode-notebook-cell:/c%3A/Users/darju/Documents/football_prediction_model/workplace.ipynb#W1sZmlsZQ%3D%3D?line=3'>4</a>\u001b[0m pd\u001b[39m.\u001b[39mDataFrame(hrefs_dict)\n",
      "\u001b[1;31mNameError\u001b[0m: name 'pd' is not defined"
     ]
    }
   ],
   "source": [
    "hrefs_dict = {\"country\": [], \"competition\": [], \"division_num\": [], \"hrefs\": []}\n",
    "\n",
    "\n",
    "pd.DataFrame(hrefs_dict)"
   ]
  }
 ],
 "metadata": {
  "kernelspec": {
   "display_name": "Python 3",
   "language": "python",
   "name": "python3"
  },
  "language_info": {
   "codemirror_mode": {
    "name": "ipython",
    "version": 3
   },
   "file_extension": ".py",
   "mimetype": "text/x-python",
   "name": "python",
   "nbconvert_exporter": "python",
   "pygments_lexer": "ipython3",
   "version": "3.10.5"
  },
  "orig_nbformat": 4
 },
 "nbformat": 4,
 "nbformat_minor": 2
}
